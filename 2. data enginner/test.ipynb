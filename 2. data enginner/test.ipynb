{
 "cells": [
  {
   "cell_type": "code",
   "execution_count": 5,
   "metadata": {},
   "outputs": [],
   "source": [
    "from crawling.news import get_news_from_naver\n",
    "from crawling.constants import NEWS_TYPE, TICKER_TYPE\n",
    "from crawling.yahoo_finances import download_of_ticker"
   ]
  },
  {
   "cell_type": "code",
   "execution_count": 6,
   "metadata": {},
   "outputs": [
    {
     "name": "stderr",
     "output_type": "stream",
     "text": [
      "[*********************100%***********************]  1 of 1 completed\n"
     ]
    },
    {
     "data": {
      "text/html": [
       "<div>\n",
       "<style scoped>\n",
       "    .dataframe tbody tr th:only-of-type {\n",
       "        vertical-align: middle;\n",
       "    }\n",
       "\n",
       "    .dataframe tbody tr th {\n",
       "        vertical-align: top;\n",
       "    }\n",
       "\n",
       "    .dataframe thead th {\n",
       "        text-align: right;\n",
       "    }\n",
       "</style>\n",
       "<table border=\"1\" class=\"dataframe\">\n",
       "  <thead>\n",
       "    <tr style=\"text-align: right;\">\n",
       "      <th>Price</th>\n",
       "      <th>Date</th>\n",
       "      <th>Close</th>\n",
       "      <th>High</th>\n",
       "      <th>Low</th>\n",
       "      <th>Open</th>\n",
       "      <th>Volume</th>\n",
       "    </tr>\n",
       "  </thead>\n",
       "  <tbody>\n",
       "    <tr>\n",
       "      <th>0</th>\n",
       "      <td>2025-03-14</td>\n",
       "      <td>67.180000</td>\n",
       "      <td>67.480003</td>\n",
       "      <td>66.589996</td>\n",
       "      <td>66.779999</td>\n",
       "      <td>180495</td>\n",
       "    </tr>\n",
       "    <tr>\n",
       "      <th>1</th>\n",
       "      <td>2025-03-17</td>\n",
       "      <td>67.580002</td>\n",
       "      <td>68.370003</td>\n",
       "      <td>67.250000</td>\n",
       "      <td>67.349998</td>\n",
       "      <td>161298</td>\n",
       "    </tr>\n",
       "    <tr>\n",
       "      <th>2</th>\n",
       "      <td>2025-03-18</td>\n",
       "      <td>66.900002</td>\n",
       "      <td>68.720001</td>\n",
       "      <td>66.559998</td>\n",
       "      <td>67.400002</td>\n",
       "      <td>110338</td>\n",
       "    </tr>\n",
       "    <tr>\n",
       "      <th>3</th>\n",
       "      <td>2025-03-19</td>\n",
       "      <td>67.160004</td>\n",
       "      <td>67.629997</td>\n",
       "      <td>66.209999</td>\n",
       "      <td>66.720001</td>\n",
       "      <td>73077</td>\n",
       "    </tr>\n",
       "    <tr>\n",
       "      <th>4</th>\n",
       "      <td>2025-03-20</td>\n",
       "      <td>68.260002</td>\n",
       "      <td>68.470001</td>\n",
       "      <td>66.879997</td>\n",
       "      <td>67.290001</td>\n",
       "      <td>73077</td>\n",
       "    </tr>\n",
       "  </tbody>\n",
       "</table>\n",
       "</div>"
      ],
      "text/plain": [
       "Price        Date      Close       High        Low       Open  Volume\n",
       "0      2025-03-14  67.180000  67.480003  66.589996  66.779999  180495\n",
       "1      2025-03-17  67.580002  68.370003  67.250000  67.349998  161298\n",
       "2      2025-03-18  66.900002  68.720001  66.559998  67.400002  110338\n",
       "3      2025-03-19  67.160004  67.629997  66.209999  66.720001   73077\n",
       "4      2025-03-20  68.260002  68.470001  66.879997  67.290001   73077"
      ]
     },
     "execution_count": 6,
     "metadata": {},
     "output_type": "execute_result"
    }
   ],
   "source": [
    "download_of_ticker(TICKER_TYPE.Oil)"
   ]
  },
  {
   "cell_type": "code",
   "execution_count": 1,
   "metadata": {},
   "outputs": [],
   "source": [
    "from youtube_transcript_api import YouTubeTranscriptApi\n",
    "from youtube_transcript_api.formatters import SRTFormatter, TextFormatter\n",
    "\n",
    "def get_video_id(video_url):\n",
    "    video_id = video_url.split('v=')[1][:11]\n",
    "    return video_id\n",
    "\n",
    "video_url = 'https://www.youtube.com/watch?v=CyEsljuyEW8'\n",
    "video_id = get_video_id(video_url)"
   ]
  },
  {
   "cell_type": "code",
   "execution_count": 2,
   "metadata": {},
   "outputs": [
    {
     "name": "stdout",
     "output_type": "stream",
     "text": [
      "- [자막언어] Chinese, [자막 언어 코드] zh\n",
      "- [자막언어] English, [자막 언어 코드] en\n",
      "- [자막언어] Indonesian, [자막 언어 코드] id\n",
      "- [자막언어] Japanese, [자막 언어 코드] ja\n",
      "- [자막언어] Korean, [자막 언어 코드] ko\n",
      "- [자막언어] Spanish, [자막 언어 코드] es\n",
      "- [자막언어] Thai, [자막 언어 코드] th\n",
      "- [자막언어] Vietnamese, [자막 언어 코드] vi\n"
     ]
    }
   ],
   "source": [
    "transcript_list = YouTubeTranscriptApi.list_transcripts(video_id)\n",
    "\n",
    "for transcript in transcript_list:\n",
    "    print(f\"- [자막언어] {transcript.language}, [자막 언어 코드] {transcript.language_code}\")"
   ]
  },
  {
   "cell_type": "code",
   "execution_count": 3,
   "metadata": {},
   "outputs": [],
   "source": [
    "transcript = YouTubeTranscriptApi.get_transcript(video_id, languages=['ko'])"
   ]
  },
  {
   "cell_type": "code",
   "execution_count": 4,
   "metadata": {},
   "outputs": [
    {
     "name": "stdout",
     "output_type": "stream",
     "text": [
      "안녕하세요 복희예요\n",
      "오늘은 수제버거 3종류에\n",
      "양파튀김, 버섯튀김, 칠리프라이까지 같이 먹을게요\n",
      "제로콜라!\n",
      "애피타이저로 양파튀김!\n",
      "오 엄청 가볍게 바삭하고 꼬소함이 가득해요\n",
      "거의 마우스피스\n",
      "먹었던 양파튀김 중에 1등..♡\n",
      "케찹 찹찹 찍어서 하나만 더 먹고 갈게요\n",
      "튀긴 양파 특유의 달달함까지 완벽,,\n",
      "드디어 햄버거 차례가 왔습니다\n",
      "클래식버거라 딱 패티, 채소, 치즈가 들어있는데\n",
      "패티 육즙도 촉촉하니 은은한 불향이 좋네요\n",
      "채소는 양파, 양상추, 토마토!\n",
      "치즈소스 못 참지\n",
      "번도 퐁실퐁실하니 솔솔 풍겨오는 버터리함이 구웃!\n",
      "딱 무난한 수제버거 맛이에요\n",
      "햄버거 입안 가득 먹을 때가 제일 햄벅..^ㅇ^\n",
      "근데 아직 양파튀김 못 이김\n",
      "메인이 양파튀김인가요,,\n",
      "양파튀김 올려서 먹으면 더 맛있겠죠?\n",
      "조심조심\n",
      "고기의 풍미에 양파의 고소함까지 더해지니까 최고네요..\n",
      "아삭한 식감은 덤\n",
      "생양파도 들어있는데 맵지 않아서 잘 어우러져요\n",
      "남은 조각들은 조각나지 않게 젓가락으로~\n",
      "맥날 초코콘 느낌으로 살짝 담궈주기\n",
      "한입에 와랄라\n",
      "수제버거치고도 가격이 꽤 비싼 편이었는데\n",
      "한번쯤 먹기 괜찮은 거 같아요\n",
      "코울슬로로 상콤함 더해주기\n",
      "버섯튀김도 너무 궁금했어요\n",
      "이정도면 거의 안 찍었다고 볼 수 있죠\n",
      "오 은은하게 퍼지는 버섯향에 겉은 바삭, 속은 쫄깃해요\n",
      "그냥 먹어도 짭짤하니 맛있네요\n",
      "놀라지 마세요...빵칼 보다 식칼이 더 잘 잘려서..^^\n",
      "트러플버섯버거!\n",
      "단면공개 촤랄라\n",
      "오 한입 가득 베어물면 트러플 향과 버섯의 야들한 식감이,,\n",
      "패티도 미디엄으로 구워져서 촉촉하니 좋아요\n",
      "치즈소스 추가한 맛은 어떨지..!!!\n",
      "맛 없을수가 없네요 이건\n",
      "버섯이 가득 들어있는데 쫄깃하게 씹히는 식감이 킬포\n",
      "깨알 버섯튀김\n",
      "습관성 콜라보\n",
      "버섯버거에 버섯튀김까지~\n",
      "꾸덕꾸덕한 버거에 바삭고소한 버섯튀김까지 조합 최고..!\n",
      "향도 좋고 너무 맛있는데요?\n",
      "콘샐러드도 가볼게요\n",
      "피클이 없는게 살짝 아쉽지만 샐러드가 허전함을 채워주네요\n",
      "양파튀김만 먹으면 모두 리셋되는 마법\n",
      "탄산 충전 타이밍\n",
      "베이컨치즈버거!\n",
      "처음 먹었던 클래식버거에 베이컨이 추가된 맛\n",
      "정말 대존맛까지는 아니지만 무난하고 맛있는 스타일이라\n",
      "누가 먹어도 그럭저럭 맛있다고 할 만한 맛이에요\n",
      "패티는 미디엄이라 여전히 촉촉쓰\n",
      "고기가 엄청 두껍지는 않아서 느끼함 없이 깔끔한 느낌\n",
      "여기는 버거도 괜찮지만 튀김이 진짜,, 제 스타일이에요\n",
      "코울슬로 올려서 프레쉬하게 가볼게요\n",
      "제가 요즘 수제버거에 빠져서 새로운 곳들 엄청 찾아다니거든요?\n",
      "여기는 엘더버거라는 곳인데 딱 적당한 밸런스의 버거집인 거 같아요\n",
      "요렇게 미디움으로 패티를 구워주는 곳은 처음이라 신기하네요\n",
      "한입 같은 세입..\n",
      "네입\n",
      "베이컨치즈는 누구나 다 아는 맛이고 머쉬룸 버거가 제일 제 취향이에요\n",
      "근데 사실 햄버거는 다 맛있음 헷\n",
      "그래도 양파튀김이 찐\n",
      "베이컨치즈도 마무리 할게요\n",
      "봐도 봐도 신기한 패티\n",
      "치즈에 치즈가 더해지니까 찐한 풍미가 미쳤네요...\n",
      "꾸덕하면서도 쿰쿰한(?) 맛이 매력있어요\n",
      "잊혀지기 직전의 칠리프라이\n",
      "고기가 엄청 넉넉히 들어있네요\n",
      "근데 살짝 목 막힘\n",
      "왕큰 대왕 버섯튀김\n",
      "마지막 버거는 제일 맛있는 버거로~\n",
      "트러플향 나는 크리미한 마요소스에 식감을 살려주는 버섯까지\n",
      "다시 먹어도 역시 맛있네요 헷\n",
      "밑에 카라멜라이징 되어있는 양파가 깔려있는데\n",
      "달큰하니 은은한 풍미를 더해주는 게 구웃!\n",
      "갠적으로 버섯 들어간 버거를 좋아해서 취저예요\n",
      "자극적인데 멈출 수 없는 치즈소스..\n",
      "고소함 한번 더해주고\n",
      "마무리 갈게요\n",
      "이 버거는 정말 또 버거싶을거야...\n",
      "칠리프라이 마무리 가야죠?\n",
      "칠리프라이는 맥주 땡기는 맛이랄까^^\n",
      "치즈소스가 좀 부족하니까 찍어줄게요\n",
      "고기 줍줍\n",
      "깰끔\n",
      "잘 먹었습니다 안녕~!\n"
     ]
    }
   ],
   "source": [
    "for line in transcript:\n",
    "    print(line['text'])"
   ]
  },
  {
   "cell_type": "code",
   "execution_count": 5,
   "metadata": {},
   "outputs": [],
   "source": [
    "import yt_dlp\n",
    "\n",
    "def get_youtube_video_info(video_url):\n",
    "    ydl_opts = {\n",
    "        'noplaylist': True,\n",
    "        'quiet': True,\n",
    "        'no_warnings': True,\n",
    "    }\n",
    "\n",
    "    with yt_dlp.YoutubeDL(ydl_opts) as ydl:\n",
    "        video_info = ydl.extract_info(video_url, download=False)\n",
    "        video_id = video_info['id']\n",
    "        title = video_info['title']\n",
    "        upload_date = video_info['upload_date']\n",
    "        channel = video_info['channel']\n",
    "        duration = video_info['duration_string']\n",
    "\n",
    "    return video_id, title, upload_date, channel, duration\n",
    "# 출처: https://issul.tistory.com/431 [Ssul's Blog:티스토리]"
   ]
  },
  {
   "cell_type": "code",
   "execution_count": 6,
   "metadata": {},
   "outputs": [
    {
     "data": {
      "text/plain": [
       "('CyEsljuyEW8',\n",
       " 'SUB)육즙팡팡 햄버거 먹방! 꾸덕한 치즈소스 푹푹 찍어먹기 어니언링 버섯튀김까지 수제버거 꿀조합 리얼사운드 Burgers Mukbang Asmr',\n",
       " '20240111',\n",
       " 'Eat with Boki',\n",
       " '10:59')"
      ]
     },
     "execution_count": 6,
     "metadata": {},
     "output_type": "execute_result"
    }
   ],
   "source": [
    "video_url = 'https://www.youtube.com/watch?v=CyEsljuyEW8'\n",
    "get_youtube_video_info(video_url)"
   ]
  },
  {
   "cell_type": "code",
   "execution_count": null,
   "metadata": {},
   "outputs": [],
   "source": [
    "\"https://www.youtube.com/@%ED%95%98%EC%A0%95%ED%9B%88%EC%9D%98%EC%82%90%EB%BD%80%EC%82%90%EB%BD%80119%EC%86%8C/videos\"\n",
    "\"https://www.youtube.com/watch?v=qCy16ciTja4\"\n",
    "\"https://www.youtube.com/watch?v=-OZxJ9dr2pQ\""
   ]
  }
 ],
 "metadata": {
  "kernelspec": {
   "display_name": ".venv",
   "language": "python",
   "name": "python3"
  },
  "language_info": {
   "codemirror_mode": {
    "name": "ipython",
    "version": 3
   },
   "file_extension": ".py",
   "mimetype": "text/x-python",
   "name": "python",
   "nbconvert_exporter": "python",
   "pygments_lexer": "ipython3",
   "version": "3.12.5"
  }
 },
 "nbformat": 4,
 "nbformat_minor": 2
}
