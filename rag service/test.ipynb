{
 "cells": [
  {
   "cell_type": "markdown",
   "metadata": {},
   "source": [
    "# [유튜브 플레이리스트](https://stackoverflow.com/questions/54710982/using-pytube-to-download-playlist-from-youtube)"
   ]
  },
  {
   "cell_type": "code",
   "execution_count": null,
   "metadata": {},
   "outputs": [
    {
     "name": "stdout",
     "output_type": "stream",
     "text": [
      "41\n",
      "https://www.youtube.com/watch?v=XmZOO_u9Eto\n",
      "https://www.youtube.com/watch?v=2G9ZbtIwbSY\n",
      "https://www.youtube.com/watch?v=hQsR69JSt7w\n",
      "https://www.youtube.com/watch?v=TqLMQQ6Td5Q\n",
      "https://www.youtube.com/watch?v=P64CjaxdNT0\n",
      "https://www.youtube.com/watch?v=kMqSc6LtuL8\n",
      "https://www.youtube.com/watch?v=P3hyM3-l7q0\n",
      "https://www.youtube.com/watch?v=ZwMt7Tw5_RI\n",
      "https://www.youtube.com/watch?v=vLJ-XlqJHT8\n",
      "https://www.youtube.com/watch?v=oiq26QC3J-E\n",
      "https://www.youtube.com/watch?v=__PCv93dKoE\n",
      "https://www.youtube.com/watch?v=W5WFStdc8YQ\n",
      "https://www.youtube.com/watch?v=gNsX5nLtRxc\n",
      "https://www.youtube.com/watch?v=Uf0uPeOasA4\n",
      "https://www.youtube.com/watch?v=HQ8e-0C3eaM\n",
      "https://www.youtube.com/watch?v=Y74FKM8NmwE\n",
      "https://www.youtube.com/watch?v=Y0juZbeUgas\n",
      "https://www.youtube.com/watch?v=uHosX_e5f8A\n",
      "https://www.youtube.com/watch?v=PuXMnLuvWFA\n",
      "https://www.youtube.com/watch?v=lGXHZ2r3Wms\n",
      "https://www.youtube.com/watch?v=rizkolEXRY4\n",
      "https://www.youtube.com/watch?v=bSKtcyM7eGw\n",
      "https://www.youtube.com/watch?v=-aKt3AJ4dEE\n",
      "https://www.youtube.com/watch?v=8_7-FwECM1c\n",
      "https://www.youtube.com/watch?v=tR0l8m3j2h8\n",
      "https://www.youtube.com/watch?v=CYZyqPvS-sA\n",
      "https://www.youtube.com/watch?v=ZJXTsIEfPYw\n",
      "https://www.youtube.com/watch?v=EqDa-yn1NAM\n",
      "https://www.youtube.com/watch?v=S4MbB6iT0qw\n",
      "https://www.youtube.com/watch?v=fnqhG8zayr4\n",
      "https://www.youtube.com/watch?v=J4Wa0030hh0\n",
      "https://www.youtube.com/watch?v=Lno1wJZFyj8\n",
      "https://www.youtube.com/watch?v=dYtqCOz9dSs\n",
      "https://www.youtube.com/watch?v=EzCClp2rP_c\n",
      "https://www.youtube.com/watch?v=oy3vlsPffqU\n",
      "https://www.youtube.com/watch?v=Gbma0rLLdCU\n",
      "https://www.youtube.com/watch?v=zqp5e9_waJs\n",
      "https://www.youtube.com/watch?v=6VvFAxt4Aio\n",
      "https://www.youtube.com/watch?v=qeq_wwxX1Ms\n",
      "https://www.youtube.com/watch?v=0lYaCUU5Wvk\n",
      "https://www.youtube.com/watch?v=4Afm5WTNg2A\n"
     ]
    }
   ],
   "source": [
    "import re\n",
    "from pytube import Playlist\n",
    "\n",
    "playlist = Playlist('https://www.youtube.com/watch?v=XmZOO_u9Eto&list=PLC6Msm1YCNw9k5lYbOukDNw2GwQGtkO0D')\n",
    "\n",
    "# this fixes the empty playlist.videos list\n",
    "playlist._video_regex = re.compile(r\"\\\"url\\\":\\\"(/watch\\?v=[\\w-]*)\")\n",
    "\n",
    "print(len(playlist.video_urls))\n",
    "\n",
    "for url in playlist.video_urls:\n",
    "    print(url)"
   ]
  },
  {
   "cell_type": "code",
   "execution_count": 1,
   "metadata": {},
   "outputs": [
    {
     "data": {
      "text/plain": [
       "801"
      ]
     },
     "execution_count": 1,
     "metadata": {},
     "output_type": "execute_result"
    }
   ],
   "source": [
    "import yt_dlp\n",
    "\n",
    "def get_video_urls(channel_url):\n",
    "  ydl_opts = {\n",
    "    'quiet': True,\n",
    "    'extract_flat': True,\n",
    "    'playlistend': 1000,  # Limit to first 1000 videos\n",
    "  }\n",
    "  \n",
    "  with yt_dlp.YoutubeDL(ydl_opts) as ydl:\n",
    "    info = ydl.extract_info(channel_url, download=False)\n",
    "    \n",
    "    if 'entries' in info:\n",
    "      video_urls = [entry['url'] for entry in info['entries'] if 'url' in entry]\n",
    "      return video_urls\n",
    "  \n",
    "  return []\n",
    "\n",
    "# Example usage\n",
    "channel_url = \"https://www.youtube.com/@%ED%95%98%EC%A0%95%ED%9B%88%EC%9D%98%EC%82%90%EB%BD%80%EC%82%90%EB%BD%80119%EC%86%8C/videos\"\n",
    "videos = get_video_urls(channel_url)\n",
    "len(videos)"
   ]
  },
  {
   "cell_type": "code",
   "execution_count": 2,
   "metadata": {},
   "outputs": [],
   "source": [
    "from youtube_transcript_api import YouTubeTranscriptApi\n",
    "from youtube_transcript_api.formatters import SRTFormatter, TextFormatter\n",
    "\n",
    "def get_video_id(video_url):\n",
    "    video_id = video_url.split('v=')[1][:11]\n",
    "    return video_id\n",
    "\n",
    "video_url = 'https://www.youtube.com/watch?v=CyEsljuyEW8'\n",
    "video_id = get_video_id(video_url)"
   ]
  },
  {
   "cell_type": "code",
   "execution_count": 3,
   "metadata": {},
   "outputs": [],
   "source": [
    "transcript = YouTubeTranscriptApi.get_transcript(video_id, languages=['ko'])"
   ]
  },
  {
   "cell_type": "code",
   "execution_count": 4,
   "metadata": {},
   "outputs": [
    {
     "data": {
      "text/plain": [
       "list"
      ]
     },
     "execution_count": 4,
     "metadata": {},
     "output_type": "execute_result"
    }
   ],
   "source": [
    "type(transcript)"
   ]
  },
  {
   "cell_type": "code",
   "execution_count": 6,
   "metadata": {},
   "outputs": [
    {
     "data": {
      "text/plain": [
       "{'text': '오늘은 수제버거 3종류에', 'start': 20.927, 'duration': 1.865}"
      ]
     },
     "execution_count": 6,
     "metadata": {},
     "output_type": "execute_result"
    }
   ],
   "source": [
    "transcript[1]"
   ]
  },
  {
   "cell_type": "code",
   "execution_count": 7,
   "metadata": {},
   "outputs": [
    {
     "data": {
      "text/plain": [
       "'안녕하세요 복희예요 오늘은 수제버거 3종류에 양파튀김, 버섯튀김, 칠리프라이까지 같이 먹을게요 제로콜라! 애피타이저로 양파튀김! 오 엄청 가볍게 바삭하고 꼬소함이 가득해요 거의 마우스피스 먹었던 양파튀김 중에 1등..♡ 케찹 찹찹 찍어서 하나만 더 먹고 갈게요 튀긴 양파 특유의 달달함까지 완벽,, 드디어 햄버거 차례가 왔습니다 클래식버거라 딱 패티, 채소, 치즈가 들어있는데 패티 육즙도 촉촉하니 은은한 불향이 좋네요 채소는 양파, 양상추, 토마토! 치즈소스 못 참지 번도 퐁실퐁실하니 솔솔 풍겨오는 버터리함이 구웃! 딱 무난한 수제버거 맛이에요 햄버거 입안 가득 먹을 때가 제일 햄벅..^ㅇ^ 근데 아직 양파튀김 못 이김 메인이 양파튀김인가요,, 양파튀김 올려서 먹으면 더 맛있겠죠? 조심조심 고기의 풍미에 양파의 고소함까지 더해지니까 최고네요.. 아삭한 식감은 덤 생양파도 들어있는데 맵지 않아서 잘 어우러져요 남은 조각들은 조각나지 않게 젓가락으로~ 맥날 초코콘 느낌으로 살짝 담궈주기 한입에 와랄라 수제버거치고도 가격이 꽤 비싼 편이었는데 한번쯤 먹기 괜찮은 거 같아요 코울슬로로 상콤함 더해주기 버섯튀김도 너무 궁금했어요 이정도면 거의 안 찍었다고 볼 수 있죠 오 은은하게 퍼지는 버섯향에 겉은 바삭, 속은 쫄깃해요 그냥 먹어도 짭짤하니 맛있네요 놀라지 마세요...빵칼 보다 식칼이 더 잘 잘려서..^^ 트러플버섯버거! 단면공개 촤랄라 오 한입 가득 베어물면 트러플 향과 버섯의 야들한 식감이,, 패티도 미디엄으로 구워져서 촉촉하니 좋아요 치즈소스 추가한 맛은 어떨지..!!! 맛 없을수가 없네요 이건 버섯이 가득 들어있는데 쫄깃하게 씹히는 식감이 킬포 깨알 버섯튀김 습관성 콜라보 버섯버거에 버섯튀김까지~ 꾸덕꾸덕한 버거에 바삭고소한 버섯튀김까지 조합 최고..! 향도 좋고 너무 맛있는데요? 콘샐러드도 가볼게요 피클이 없는게 살짝 아쉽지만 샐러드가 허전함을 채워주네요 양파튀김만 먹으면 모두 리셋되는 마법 탄산 충전 타이밍 베이컨치즈버거! 처음 먹었던 클래식버거에 베이컨이 추가된 맛 정말 대존맛까지는 아니지만 무난하고 맛있는 스타일이라 누가 먹어도 그럭저럭 맛있다고 할 만한 맛이에요 패티는 미디엄이라 여전히 촉촉쓰 고기가 엄청 두껍지는 않아서 느끼함 없이 깔끔한 느낌 여기는 버거도 괜찮지만 튀김이 진짜,, 제 스타일이에요 코울슬로 올려서 프레쉬하게 가볼게요 제가 요즘 수제버거에 빠져서 새로운 곳들 엄청 찾아다니거든요? 여기는 엘더버거라는 곳인데 딱 적당한 밸런스의 버거집인 거 같아요 요렇게 미디움으로 패티를 구워주는 곳은 처음이라 신기하네요 한입 같은 세입.. 네입 베이컨치즈는 누구나 다 아는 맛이고 머쉬룸 버거가 제일 제 취향이에요 근데 사실 햄버거는 다 맛있음 헷 그래도 양파튀김이 찐 베이컨치즈도 마무리 할게요 봐도 봐도 신기한 패티 치즈에 치즈가 더해지니까 찐한 풍미가 미쳤네요... 꾸덕하면서도 쿰쿰한(?) 맛이 매력있어요 잊혀지기 직전의 칠리프라이 고기가 엄청 넉넉히 들어있네요 근데 살짝 목 막힘 왕큰 대왕 버섯튀김 마지막 버거는 제일 맛있는 버거로~ 트러플향 나는 크리미한 마요소스에 식감을 살려주는 버섯까지 다시 먹어도 역시 맛있네요 헷 밑에 카라멜라이징 되어있는 양파가 깔려있는데 달큰하니 은은한 풍미를 더해주는 게 구웃! 갠적으로 버섯 들어간 버거를 좋아해서 취저예요 자극적인데 멈출 수 없는 치즈소스.. 고소함 한번 더해주고 마무리 갈게요 이 버거는 정말 또 버거싶을거야... 칠리프라이 마무리 가야죠? 칠리프라이는 맥주 땡기는 맛이랄까^^ 치즈소스가 좀 부족하니까 찍어줄게요 고기 줍줍 깰끔 잘 먹었습니다 안녕~!'"
      ]
     },
     "execution_count": 7,
     "metadata": {},
     "output_type": "execute_result"
    }
   ],
   "source": [
    "\" \".join(line['text'] for line in transcript)"
   ]
  },
  {
   "cell_type": "code",
   "execution_count": 8,
   "metadata": {},
   "outputs": [],
   "source": [
    "from youtube import get_video_urls, get_youtube_video_info"
   ]
  },
  {
   "cell_type": "code",
   "execution_count": 9,
   "metadata": {},
   "outputs": [
    {
     "data": {
      "text/plain": [
       "795"
      ]
     },
     "execution_count": 9,
     "metadata": {},
     "output_type": "execute_result"
    }
   ],
   "source": [
    "channel_url = \"https://www.youtube.com/@%ED%95%98%EC%A0%95%ED%9B%88%EC%9D%98%EC%82%90%EB%BD%80%EC%82%90%EB%BD%80119%EC%86%8C/videos\"\n",
    "videos = get_video_urls(channel_url)\n",
    "\n",
    "len(videos)"
   ]
  },
  {
   "cell_type": "code",
   "execution_count": 11,
   "metadata": {},
   "outputs": [
    {
     "data": {
      "text/plain": [
       "{'video_id': '-OZxJ9dr2pQ',\n",
       " 'title': '#787 훈육하는데 이건 필수! 저절로 되는 훈육이 최고. 쉬운 육아의 지름길입니다: 소아청소년과 전문의, 삐뽀삐뽀119소아과저자',\n",
       " 'upload_date': '20250319',\n",
       " 'channel': '하정훈의 삐뽀삐뽀 119 소아과 (삐뽀삐뽀 119 소아과)',\n",
       " 'duration': '4:26',\n",
       " 'caption': '[음악] 안녕하세요 소화 청소과 전문의 하입니다 아직도 훈육을 해야하나 말하나 이걸 고민하는 부모들이 제법 있습니다 훈육이 필요하다고 생각을 하면서도 언제부터 해야하나 이걸 고민하는 부모도 있고요 훈육을 어느 정도로 해야 하나 이런 것도 고민스럽지 육에 대해서는 어떻게 하나 고민들도 많지만 훈육은 아이가 인생을 바르게 살고 다른 사람들과 더불어 살고 다른 사람들에게 호감받는 인생을 사는데 필수라고 보시면 됩니다 훈육은 단순하게 부모말 잘 듣는 아이로 키우는 것이 아니고요 아이 스스로가 바른 행동을 지속적으로 하게 하는 겁니다 그리고 이건 아이 스스로 룰을 지키고 자신을 통제하는 능력을 기르고 자신이 사이에 적응하는 능력을 길러주는데 아주 중요한 겁니다 그리고 어릴 때 은만 르게 하는 것이 아니라 뇌 발달 그 자체에도 영을 미쳐서 두뇌를 더 잘 발달하게 해줍니다 쉽게 이야기하면 육을 통해서 자기 통이 생기고이를 통해서 아이 머리도 좋아지게 된다는 겁니다 아이들은 이렇게 자기 통지를 기르게 머리를 사용할수록 두뇌가 발달하는 겁니다 두뇌가 가장 활발하게 발달하는 어린의 육은 그래서 더 중요한 겁니다로부터 여덟까지 간다는 이야기는 다들 아실 겁니다 그리고 그게 만두 살이라는 것도 다들 아실 겁니다 그래서 두두리 진의 훈육이 되는 것은 아이의 평생을 좌우하게 되는 겁니다 두 세돌 전에 훈육하기 말라는 말은 정말 고난한 이야기입니다 당연히 나중에도 훈육은 할 수 있죠 초등학교 입학하고 한글을 배우지 않아도 나중에 배울 수도 있습니다 당연히 광인이 되어서 한글을 배울 수도 있지만 배움은 항상 때가 있는 법입니다 그래서 너무 늦지 않게 두리의 훈육의 기본이 어느 정도는 틀이 잡혀야 하는 겁니다 훈육은 부모가 특별한 것을 가르쳐 하는 것은 아니고요 가정의 털 속에서 저절로 되는 겁니다 부모가 근 있고 위기 질서가 있고 가정의 규칙이 있고 아이 한계를 명하게 하고 이걸 무조건 지키게 하는 것이 중요합니다 이런 가정의 바람직한 일상생활의 틀 속에서 아이가 생활하게 되면 저절로 육이 되는 겁니다 예전에 이런 것을 밥리 교육이라고 했습니다 한 밥 먹는 그 시간에도 아이는 훈육이 되는 겁니다 훈육은 아이에게 강요해서 되는 것은 아닙니다 그럼 시간도 많이 들고 제대로 훈육이 되기 힘듭니다 강압적으로 하라는 것도 아닙니다 그럼 아이가 엄청나게 스트레스를 받을 수 있습니다 바람직한 가정의 털 속에서 아이가 정해진 규칙과 한계를 지켜야 일상이 제대로 돌아간다는 것을 아이가 경험하게 해서 아이 스스로 규칙과 한기를 지키게 만드는 것이 중요합니다 쉽게 하기 해서 카시트는 당연히 앉아야 하고 아이가 카시트에 앉아야 차가 출발한다는 것을 알고 차를 타면 당연히 카시트에 앉아야 한다는 것을 알고 스스로 지키게 하는 겁니다 부모의 근의 단호함과 일관성은 훈육의 가장 기본이 된다는 것은 꼭 알아두시기 바랍니다 여기에 부모의 사랑과 적당한 배려 역시 훈육의 필수라고 보시면 됩니다 훈육은 아이를 아이답게 키우는데 기본이며 아이가 세상을 살아가는데도 기본이 됩니다 당히 다른 사람들 더부러 하는데도 훈육을 통한 자기 통제력을 기르는 것이 정말 중요하고요 자기 통제력은 공부하는 머리를 만들어 줄뿐 아니라 공부를 잘하기 위해서 지속적으로 노력하는 는데도 정말 중요합니다 훈육을 제대로 하지 않아서 제멋대로 행동하고 말 안 듣고 떼쓰는 아이를 주위에서 보기만 해도 숨이 탁탁 막힐 겁니다 당연히 훈육이 잘된 아이는 부모가 키우기도 훨씬 쉬워집니다 훈육을 해야나 말하야 나 그런 고민은 할 필요가 없습니다 훈육은 선택이 아닌 필수입니다 내 아이를 바르게 키우기 위해서는 어릴 때부터 훈육이 돼야 하는데 두 돌 이전에 훈육의 기본이 잡혀야 한다는 것 잊지 마시기 바랍니다 [음악] [박수] [음악]'}"
      ]
     },
     "execution_count": 11,
     "metadata": {},
     "output_type": "execute_result"
    }
   ],
   "source": [
    "get_youtube_video_info(videos[1])"
   ]
  },
  {
   "cell_type": "code",
   "execution_count": null,
   "metadata": {},
   "outputs": [],
   "source": []
  }
 ],
 "metadata": {
  "kernelspec": {
   "display_name": ".venv",
   "language": "python",
   "name": "python3"
  },
  "language_info": {
   "codemirror_mode": {
    "name": "ipython",
    "version": 3
   },
   "file_extension": ".py",
   "mimetype": "text/x-python",
   "name": "python",
   "nbconvert_exporter": "python",
   "pygments_lexer": "ipython3",
   "version": "3.12.9"
  }
 },
 "nbformat": 4,
 "nbformat_minor": 2
}
